{
 "cells": [
  {
   "cell_type": "code",
   "execution_count": 14,
   "id": "ec12eb08-a3ba-4782-aa78-18ee3f058ad6",
   "metadata": {},
   "outputs": [],
   "source": [
    "import numpy as np\n",
    "import matplotlib.pyplot as plt\n",
    "%matplotlib inline"
   ]
  },
  {
   "cell_type": "code",
   "execution_count": 1,
   "id": "fcc1ad76-a6d4-43a1-9cd3-330beb6003a8",
   "metadata": {},
   "outputs": [],
   "source": [
    "import torch\n",
    "from torch import nn\n",
    "from torch.utils.data import DataLoader\n",
    "from torchvision import datasets\n",
    "from torchvision.transforms import ToTensor"
   ]
  },
  {
   "cell_type": "code",
   "execution_count": 2,
   "id": "4917fdc6-2aef-4d3c-be35-b528227d4496",
   "metadata": {},
   "outputs": [
    {
     "name": "stdout",
     "output_type": "stream",
     "text": [
      "Downloading http://fashion-mnist.s3-website.eu-central-1.amazonaws.com/train-images-idx3-ubyte.gz\n",
      "Downloading http://fashion-mnist.s3-website.eu-central-1.amazonaws.com/train-images-idx3-ubyte.gz to data/FashionMNIST/raw/train-images-idx3-ubyte.gz\n"
     ]
    },
    {
     "data": {
      "application/vnd.jupyter.widget-view+json": {
       "model_id": "69f0142facb1449d8c62bbafad2ce09b",
       "version_major": 2,
       "version_minor": 0
      },
      "text/plain": [
       "  0%|          | 0/26421880 [00:00<?, ?it/s]"
      ]
     },
     "metadata": {},
     "output_type": "display_data"
    },
    {
     "name": "stdout",
     "output_type": "stream",
     "text": [
      "Extracting data/FashionMNIST/raw/train-images-idx3-ubyte.gz to data/FashionMNIST/raw\n",
      "\n",
      "Downloading http://fashion-mnist.s3-website.eu-central-1.amazonaws.com/train-labels-idx1-ubyte.gz\n",
      "Downloading http://fashion-mnist.s3-website.eu-central-1.amazonaws.com/train-labels-idx1-ubyte.gz to data/FashionMNIST/raw/train-labels-idx1-ubyte.gz\n"
     ]
    },
    {
     "data": {
      "application/vnd.jupyter.widget-view+json": {
       "model_id": "9760b23f87ac4ca5aca20bac64ef85d1",
       "version_major": 2,
       "version_minor": 0
      },
      "text/plain": [
       "  0%|          | 0/29515 [00:00<?, ?it/s]"
      ]
     },
     "metadata": {},
     "output_type": "display_data"
    },
    {
     "name": "stdout",
     "output_type": "stream",
     "text": [
      "Extracting data/FashionMNIST/raw/train-labels-idx1-ubyte.gz to data/FashionMNIST/raw\n",
      "\n",
      "Downloading http://fashion-mnist.s3-website.eu-central-1.amazonaws.com/t10k-images-idx3-ubyte.gz\n",
      "Downloading http://fashion-mnist.s3-website.eu-central-1.amazonaws.com/t10k-images-idx3-ubyte.gz to data/FashionMNIST/raw/t10k-images-idx3-ubyte.gz\n"
     ]
    },
    {
     "data": {
      "application/vnd.jupyter.widget-view+json": {
       "model_id": "4e0874c4f2ab4c3fb541fb2feff9f7f8",
       "version_major": 2,
       "version_minor": 0
      },
      "text/plain": [
       "  0%|          | 0/4422102 [00:00<?, ?it/s]"
      ]
     },
     "metadata": {},
     "output_type": "display_data"
    },
    {
     "name": "stdout",
     "output_type": "stream",
     "text": [
      "Extracting data/FashionMNIST/raw/t10k-images-idx3-ubyte.gz to data/FashionMNIST/raw\n",
      "\n",
      "Downloading http://fashion-mnist.s3-website.eu-central-1.amazonaws.com/t10k-labels-idx1-ubyte.gz\n",
      "Downloading http://fashion-mnist.s3-website.eu-central-1.amazonaws.com/t10k-labels-idx1-ubyte.gz to data/FashionMNIST/raw/t10k-labels-idx1-ubyte.gz\n"
     ]
    },
    {
     "data": {
      "application/vnd.jupyter.widget-view+json": {
       "model_id": "3960fdbdc9a7419ca8c39622cdd3536f",
       "version_major": 2,
       "version_minor": 0
      },
      "text/plain": [
       "  0%|          | 0/5148 [00:00<?, ?it/s]"
      ]
     },
     "metadata": {},
     "output_type": "display_data"
    },
    {
     "name": "stdout",
     "output_type": "stream",
     "text": [
      "Extracting data/FashionMNIST/raw/t10k-labels-idx1-ubyte.gz to data/FashionMNIST/raw\n",
      "\n"
     ]
    }
   ],
   "source": [
    "# Download training data from open datasets.\n",
    "training_data = datasets.FashionMNIST(\n",
    "    root=\"data\",\n",
    "    train=True,\n",
    "    download=True,\n",
    "    transform=ToTensor(),\n",
    ")\n",
    "\n",
    "# Download test data from open datasets.\n",
    "test_data = datasets.FashionMNIST(\n",
    "    root=\"data\",\n",
    "    train=False,\n",
    "    download=True,\n",
    "    transform=ToTensor(),\n",
    ")"
   ]
  },
  {
   "cell_type": "code",
   "execution_count": 3,
   "id": "15ad1cca-f29e-48cd-8e55-d7d7b48ccb9d",
   "metadata": {},
   "outputs": [
    {
     "name": "stdout",
     "output_type": "stream",
     "text": [
      "Shape of X [N, C, H, W]: torch.Size([64, 1, 28, 28])\n",
      "Shape of y: torch.Size([64]) torch.int64\n"
     ]
    }
   ],
   "source": [
    "batch_size = 64\n",
    "\n",
    "# Create data loaders.\n",
    "train_dataloader = DataLoader(training_data, batch_size=batch_size)\n",
    "test_dataloader = DataLoader(test_data, batch_size=batch_size)\n",
    "\n",
    "for X, y in test_dataloader:\n",
    "    print(f\"Shape of X [N, C, H, W]: {X.shape}\")\n",
    "    print(f\"Shape of y: {y.shape} {y.dtype}\")\n",
    "    break"
   ]
  },
  {
   "cell_type": "code",
   "execution_count": 4,
   "id": "375770e0-09bc-486d-8d22-fb074e1afbae",
   "metadata": {},
   "outputs": [
    {
     "name": "stdout",
     "output_type": "stream",
     "text": [
      "Using cpu device\n",
      "NeuralNetwork(\n",
      "  (flatten): Flatten(start_dim=1, end_dim=-1)\n",
      "  (linear_relu_stack): Sequential(\n",
      "    (0): Linear(in_features=784, out_features=512, bias=True)\n",
      "    (1): ReLU()\n",
      "    (2): Linear(in_features=512, out_features=512, bias=True)\n",
      "    (3): ReLU()\n",
      "    (4): Linear(in_features=512, out_features=10, bias=True)\n",
      "  )\n",
      ")\n"
     ]
    }
   ],
   "source": [
    "# Get cpu or gpu device for training.\n",
    "device = \"cuda\" if torch.cuda.is_available() else \"cpu\"\n",
    "print(f\"Using {device} device\")\n",
    "\n",
    "# Define model\n",
    "class NeuralNetwork(nn.Module):\n",
    "    def __init__(self):\n",
    "        super(NeuralNetwork, self).__init__()\n",
    "        self.flatten = nn.Flatten()\n",
    "        self.linear_relu_stack = nn.Sequential(\n",
    "            nn.Linear(28*28, 512),\n",
    "            nn.ReLU(),\n",
    "            nn.Linear(512, 512),\n",
    "            nn.ReLU(),\n",
    "            nn.Linear(512, 10)\n",
    "        )\n",
    "\n",
    "    def forward(self, x):\n",
    "        x = self.flatten(x)\n",
    "        logits = self.linear_relu_stack(x)\n",
    "        return logits\n",
    "\n",
    "model = NeuralNetwork().to(device)\n",
    "print(model)"
   ]
  },
  {
   "cell_type": "code",
   "execution_count": 5,
   "id": "0c49eac2-f83c-4215-9500-f2d175fa6519",
   "metadata": {},
   "outputs": [],
   "source": [
    "loss_fn = nn.CrossEntropyLoss()\n",
    "optimizer = torch.optim.SGD(model.parameters(), lr=1e-3)"
   ]
  },
  {
   "cell_type": "code",
   "execution_count": 6,
   "id": "6bdf74b5-3e45-43cb-8853-cf4ea9790dd4",
   "metadata": {},
   "outputs": [],
   "source": [
    "def train(dataloader, model, loss_fn, optimizer):\n",
    "    size = len(dataloader.dataset)\n",
    "    model.train()\n",
    "    for batch, (X, y) in enumerate(dataloader):\n",
    "        X, y = X.to(device), y.to(device)\n",
    "\n",
    "        # Compute prediction error\n",
    "        pred = model(X)\n",
    "        loss = loss_fn(pred, y)\n",
    "\n",
    "        # Backpropagation\n",
    "        optimizer.zero_grad()\n",
    "        loss.backward()\n",
    "        optimizer.step()\n",
    "\n",
    "        if batch % 100 == 0:\n",
    "            loss, current = loss.item(), batch * len(X)\n",
    "            print(f\"loss: {loss:>7f}  [{current:>5d}/{size:>5d}]\")"
   ]
  },
  {
   "cell_type": "code",
   "execution_count": 7,
   "id": "8b7a41ae-be85-40bd-86e7-81bbf283a2f6",
   "metadata": {},
   "outputs": [],
   "source": [
    "def test(dataloader, model, loss_fn):\n",
    "    size = len(dataloader.dataset)\n",
    "    num_batches = len(dataloader)\n",
    "    model.eval()\n",
    "    test_loss, correct = 0, 0\n",
    "    with torch.no_grad():\n",
    "        for X, y in dataloader:\n",
    "            X, y = X.to(device), y.to(device)\n",
    "            pred = model(X)\n",
    "            test_loss += loss_fn(pred, y).item()\n",
    "            correct += (pred.argmax(1) == y).type(torch.float).sum().item()\n",
    "    test_loss /= num_batches\n",
    "    correct /= size\n",
    "    print(f\"Test Error: \\n Accuracy: {(100*correct):>0.1f}%, Avg loss: {test_loss:>8f} \\n\")"
   ]
  },
  {
   "cell_type": "code",
   "execution_count": 8,
   "id": "e54969ce-b76b-4b40-8258-10eefe770e0a",
   "metadata": {},
   "outputs": [
    {
     "name": "stdout",
     "output_type": "stream",
     "text": [
      "Epoch 1\n",
      "-------------------------------\n",
      "loss: 2.298796  [    0/60000]\n",
      "loss: 2.282145  [ 6400/60000]\n",
      "loss: 2.261630  [12800/60000]\n",
      "loss: 2.262951  [19200/60000]\n",
      "loss: 2.225904  [25600/60000]\n",
      "loss: 2.223665  [32000/60000]\n",
      "loss: 2.210504  [38400/60000]\n",
      "loss: 2.181959  [44800/60000]\n",
      "loss: 2.169335  [51200/60000]\n",
      "loss: 2.136119  [57600/60000]\n",
      "Test Error: \n",
      " Accuracy: 53.3%, Avg loss: 2.131448 \n",
      "\n",
      "Epoch 2\n",
      "-------------------------------\n",
      "loss: 2.144235  [    0/60000]\n",
      "loss: 2.128218  [ 6400/60000]\n",
      "loss: 2.061499  [12800/60000]\n",
      "loss: 2.082657  [19200/60000]\n",
      "loss: 2.001653  [25600/60000]\n",
      "loss: 1.967112  [32000/60000]\n",
      "loss: 1.981339  [38400/60000]\n",
      "loss: 1.902152  [44800/60000]\n",
      "loss: 1.903859  [51200/60000]\n",
      "loss: 1.821202  [57600/60000]\n",
      "Test Error: \n",
      " Accuracy: 52.8%, Avg loss: 1.824416 \n",
      "\n",
      "Epoch 3\n",
      "-------------------------------\n",
      "loss: 1.868530  [    0/60000]\n",
      "loss: 1.829462  [ 6400/60000]\n",
      "loss: 1.703109  [12800/60000]\n",
      "loss: 1.752485  [19200/60000]\n",
      "loss: 1.623101  [25600/60000]\n",
      "loss: 1.598555  [32000/60000]\n",
      "loss: 1.617539  [38400/60000]\n",
      "loss: 1.527257  [44800/60000]\n",
      "loss: 1.549205  [51200/60000]\n",
      "loss: 1.444083  [57600/60000]\n",
      "Test Error: \n",
      " Accuracy: 60.1%, Avg loss: 1.469130 \n",
      "\n",
      "Epoch 4\n",
      "-------------------------------\n",
      "loss: 1.541488  [    0/60000]\n",
      "loss: 1.505413  [ 6400/60000]\n",
      "loss: 1.355829  [12800/60000]\n",
      "loss: 1.435885  [19200/60000]\n",
      "loss: 1.307893  [25600/60000]\n",
      "loss: 1.315794  [32000/60000]\n",
      "loss: 1.329611  [38400/60000]\n",
      "loss: 1.262712  [44800/60000]\n",
      "loss: 1.292246  [51200/60000]\n",
      "loss: 1.194894  [57600/60000]\n",
      "Test Error: \n",
      " Accuracy: 63.2%, Avg loss: 1.226769 \n",
      "\n",
      "Epoch 5\n",
      "-------------------------------\n",
      "loss: 1.303516  [    0/60000]\n",
      "loss: 1.285393  [ 6400/60000]\n",
      "loss: 1.120299  [12800/60000]\n",
      "loss: 1.235657  [19200/60000]\n",
      "loss: 1.101987  [25600/60000]\n",
      "loss: 1.129900  [32000/60000]\n",
      "loss: 1.153946  [38400/60000]\n",
      "loss: 1.096517  [44800/60000]\n",
      "loss: 1.130913  [51200/60000]\n",
      "loss: 1.046229  [57600/60000]\n",
      "Test Error: \n",
      " Accuracy: 64.9%, Avg loss: 1.074034 \n",
      "\n",
      "Epoch 6\n",
      "-------------------------------\n",
      "loss: 1.143749  [    0/60000]\n",
      "loss: 1.144411  [ 6400/60000]\n",
      "loss: 0.961600  [12800/60000]\n",
      "loss: 1.107480  [19200/60000]\n",
      "loss: 0.973967  [25600/60000]\n",
      "loss: 1.002823  [32000/60000]\n",
      "loss: 1.044633  [38400/60000]\n",
      "loss: 0.989455  [44800/60000]\n",
      "loss: 1.023656  [51200/60000]\n",
      "loss: 0.951431  [57600/60000]\n",
      "Test Error: \n",
      " Accuracy: 66.0%, Avg loss: 0.973857 \n",
      "\n",
      "Epoch 7\n",
      "-------------------------------\n",
      "loss: 1.031169  [    0/60000]\n",
      "loss: 1.051939  [ 6400/60000]\n",
      "loss: 0.851027  [12800/60000]\n",
      "loss: 1.020674  [19200/60000]\n",
      "loss: 0.892635  [25600/60000]\n",
      "loss: 0.912800  [32000/60000]\n",
      "loss: 0.972610  [38400/60000]\n",
      "loss: 0.919750  [44800/60000]\n",
      "loss: 0.948594  [51200/60000]\n",
      "loss: 0.886472  [57600/60000]\n",
      "Test Error: \n",
      " Accuracy: 67.1%, Avg loss: 0.904986 \n",
      "\n",
      "Epoch 8\n",
      "-------------------------------\n",
      "loss: 0.948400  [    0/60000]\n",
      "loss: 0.987229  [ 6400/60000]\n",
      "loss: 0.771533  [12800/60000]\n",
      "loss: 0.958704  [19200/60000]\n",
      "loss: 0.838361  [25600/60000]\n",
      "loss: 0.847449  [32000/60000]\n",
      "loss: 0.921690  [38400/60000]\n",
      "loss: 0.873062  [44800/60000]\n",
      "loss: 0.894179  [51200/60000]\n",
      "loss: 0.839125  [57600/60000]\n",
      "Test Error: \n",
      " Accuracy: 68.0%, Avg loss: 0.855271 \n",
      "\n",
      "Epoch 9\n",
      "-------------------------------\n",
      "loss: 0.884803  [    0/60000]\n",
      "loss: 0.938507  [ 6400/60000]\n",
      "loss: 0.712193  [12800/60000]\n",
      "loss: 0.912515  [19200/60000]\n",
      "loss: 0.799746  [25600/60000]\n",
      "loss: 0.798449  [32000/60000]\n",
      "loss: 0.883148  [38400/60000]\n",
      "loss: 0.840454  [44800/60000]\n",
      "loss: 0.853546  [51200/60000]\n",
      "loss: 0.802929  [57600/60000]\n",
      "Test Error: \n",
      " Accuracy: 69.1%, Avg loss: 0.817643 \n",
      "\n",
      "Epoch 10\n",
      "-------------------------------\n",
      "loss: 0.834034  [    0/60000]\n",
      "loss: 0.899465  [ 6400/60000]\n",
      "loss: 0.666278  [12800/60000]\n",
      "loss: 0.876756  [19200/60000]\n",
      "loss: 0.770646  [25600/60000]\n",
      "loss: 0.760839  [32000/60000]\n",
      "loss: 0.851903  [38400/60000]\n",
      "loss: 0.816330  [44800/60000]\n",
      "loss: 0.821981  [51200/60000]\n",
      "loss: 0.773935  [57600/60000]\n",
      "Test Error: \n",
      " Accuracy: 70.1%, Avg loss: 0.787777 \n",
      "\n",
      "Done!\n"
     ]
    }
   ],
   "source": [
    "epochs = 10\n",
    "for t in range(epochs):\n",
    "    print(f\"Epoch {t+1}\\n-------------------------------\")\n",
    "    train(train_dataloader, model, loss_fn, optimizer)\n",
    "    test(test_dataloader, model, loss_fn)\n",
    "print(\"Done!\")"
   ]
  },
  {
   "cell_type": "code",
   "execution_count": 9,
   "id": "5e73f1e4-4b96-463a-8a46-fb82a9f79eaa",
   "metadata": {},
   "outputs": [
    {
     "name": "stdout",
     "output_type": "stream",
     "text": [
      "Saved PyTorch Model State to model.pth\n"
     ]
    }
   ],
   "source": [
    "torch.save(model.state_dict(), \"model.pth\")\n",
    "print(\"Saved PyTorch Model State to model.pth\")"
   ]
  },
  {
   "cell_type": "code",
   "execution_count": 10,
   "id": "82d5244f-25a6-4ab8-afff-7f87af2ef8f5",
   "metadata": {},
   "outputs": [
    {
     "data": {
      "text/plain": [
       "<All keys matched successfully>"
      ]
     },
     "execution_count": 10,
     "metadata": {},
     "output_type": "execute_result"
    }
   ],
   "source": [
    "model = NeuralNetwork()\n",
    "model.load_state_dict(torch.load(\"model.pth\"))"
   ]
  },
  {
   "cell_type": "code",
   "execution_count": 11,
   "id": "56e59835-d96e-4023-b803-61c7f8146c3e",
   "metadata": {},
   "outputs": [
    {
     "name": "stdout",
     "output_type": "stream",
     "text": [
      "Predicted: \"Ankle boot\", Actual: \"Ankle boot\"\n"
     ]
    }
   ],
   "source": [
    "classes = [\n",
    "    \"T-shirt/top\",\n",
    "    \"Trouser\",\n",
    "    \"Pullover\",\n",
    "    \"Dress\",\n",
    "    \"Coat\",\n",
    "    \"Sandal\",\n",
    "    \"Shirt\",\n",
    "    \"Sneaker\",\n",
    "    \"Bag\",\n",
    "    \"Ankle boot\",\n",
    "]\n",
    "\n",
    "model.eval()\n",
    "x, y = test_data[0][0], test_data[0][1]\n",
    "with torch.no_grad():\n",
    "    pred = model(x)\n",
    "    predicted, actual = classes[pred[0].argmax(0)], classes[y]\n",
    "    print(f'Predicted: \"{predicted}\", Actual: \"{actual}\"')"
   ]
  },
  {
   "cell_type": "code",
   "execution_count": 18,
   "id": "7cf3e8a4-cde0-49c5-acf9-e2c5523b403c",
   "metadata": {},
   "outputs": [
    {
     "data": {
      "image/png": "[encoded data removed]",
      "text/plain": [
       "<Figure size 720x288 with 10 Axes>"
      ]
     },
     "metadata": {
      "needs_background": "light"
     },
     "output_type": "display_data"
    }
   ],
   "source": [
    "# 各クラスのラベルを持つサンプルを1つずつ取得する。\n",
    "class_ids, sample_indices = np.unique(training_data.targets, return_index=True)\n",
    "\n",
    "fig = plt.figure(figsize=(10, 4))\n",
    "fig.suptitle(\n",
    "    \"Examples of every class in the Fashion-MNIST dataset\", fontsize=\"x-large\"\n",
    ")\n",
    "\n",
    "for i in class_ids:\n",
    "    img = training_data.data[sample_indices[i]]\n",
    "    class_name = training_data.classes[i]\n",
    "\n",
    "    ax = fig.add_subplot(2, 5, i + 1)\n",
    "    ax.set_title(f\"{i}: {class_name}\")\n",
    "    ax.set_axis_off()\n",
    "    ax.imshow(img)\n",
    "\n",
    "plt.show()"
   ]
  }
 ],
 "metadata": {
  "kernelspec": {
   "display_name": "Python 3 (ipykernel)",
   "language": "python",
   "name": "python3"
  },
  "language_info": {
   "codemirror_mode": {
    "name": "ipython",
    "version": 3
   },
   "file_extension": ".py",
   "mimetype": "text/x-python",
   "name": "python",
   "nbconvert_exporter": "python",
   "pygments_lexer": "ipython3",
   "version": "3.8.13"
  }
 },
 "nbformat": 4,
 "nbformat_minor": 5
}
