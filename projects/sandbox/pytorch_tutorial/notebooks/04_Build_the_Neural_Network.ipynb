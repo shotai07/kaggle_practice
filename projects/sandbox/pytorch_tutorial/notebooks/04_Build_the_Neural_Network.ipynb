{
 "cells": [
  {
   "cell_type": "code",
   "execution_count": 1,
   "id": "d3b3fe3b-8c8c-4f05-8efd-b89e7bf9eeca",
   "metadata": {},
   "outputs": [],
   "source": [
    "import os\n",
    "import torch\n",
    "from torch import nn\n",
    "from torch.utils.data import DataLoader\n",
    "from torchvision import datasets, transforms"
   ]
  },
  {
   "cell_type": "code",
   "execution_count": 2,
   "id": "a3d4667d-d00f-417e-8d51-597ca3ed1b25",
   "metadata": {},
   "outputs": [
    {
     "name": "stdout",
     "output_type": "stream",
     "text": [
      "Using cpu device\n"
     ]
    }
   ],
   "source": [
    "device = \"cuda\" if torch.cuda.is_available() else \"cpu\"\n",
    "print(f\"Using {device} device\")"
   ]
  },
  {
   "cell_type": "code",
   "execution_count": 3,
   "id": "29e1afcb-b0b4-4255-bebf-48941b2e8c70",
   "metadata": {},
   "outputs": [],
   "source": [
    "class NeuralNetwork(nn.Module):\n",
    "    def __init__(self):\n",
    "        super(NeuralNetwork, self).__init__()\n",
    "        self.flatten = nn.Flatten()\n",
    "        self.linear_relu_stack = nn.Sequential(\n",
    "            nn.Linear(28*28, 512),\n",
    "            nn.ReLU(),\n",
    "            nn.Linear(512, 512),\n",
    "            nn.ReLU(),\n",
    "            nn.Linear(512, 10),\n",
    "        )\n",
    "\n",
    "    def forward(self, x):\n",
    "        x = self.flatten(x)\n",
    "        logits = self.linear_relu_stack(x)\n",
    "        return logits"
   ]
  },
  {
   "cell_type": "code",
   "execution_count": 4,
   "id": "974db995-58d6-4bcd-9d10-e005c06a1e39",
   "metadata": {},
   "outputs": [
    {
     "name": "stdout",
     "output_type": "stream",
     "text": [
      "NeuralNetwork(\n",
      "  (flatten): Flatten(start_dim=1, end_dim=-1)\n",
      "  (linear_relu_stack): Sequential(\n",
      "    (0): Linear(in_features=784, out_features=512, bias=True)\n",
      "    (1): ReLU()\n",
      "    (2): Linear(in_features=512, out_features=512, bias=True)\n",
      "    (3): ReLU()\n",
      "    (4): Linear(in_features=512, out_features=10, bias=True)\n",
      "  )\n",
      ")\n"
     ]
    }
   ],
   "source": [
    "model = NeuralNetwork().to(device)\n",
    "print(model)"
   ]
  },
  {
   "cell_type": "code",
   "execution_count": 5,
   "id": "7a95fb5f-7b4c-48ca-aafe-7cb7eed840d3",
   "metadata": {},
   "outputs": [
    {
     "name": "stdout",
     "output_type": "stream",
     "text": [
      "Predicted class: tensor([4])\n"
     ]
    }
   ],
   "source": [
    "X = torch.rand(1, 28, 28, device=device)\n",
    "logits = model(X)\n",
    "pred_probab = nn.Softmax(dim=1)(logits)\n",
    "y_pred = pred_probab.argmax(1)\n",
    "print(f\"Predicted class: {y_pred}\")"
   ]
  },
  {
   "cell_type": "code",
   "execution_count": 6,
   "id": "166d16da-b6cf-453a-baf8-3723dea5f4d9",
   "metadata": {},
   "outputs": [
    {
     "name": "stdout",
     "output_type": "stream",
     "text": [
      "torch.Size([3, 28, 28])\n"
     ]
    }
   ],
   "source": [
    "input_image = torch.rand(3,28,28)\n",
    "print(input_image.size())"
   ]
  },
  {
   "cell_type": "code",
   "execution_count": 7,
   "id": "92297340-296c-48b9-9930-cd1bddfca44e",
   "metadata": {},
   "outputs": [
    {
     "name": "stdout",
     "output_type": "stream",
     "text": [
      "torch.Size([3, 784])\n"
     ]
    }
   ],
   "source": [
    "flatten = nn.Flatten()\n",
    "flat_image = flatten(input_image)\n",
    "print(flat_image.size())"
   ]
  },
  {
   "cell_type": "code",
   "execution_count": 8,
   "id": "3a69616d-ee24-471a-aadb-0f5e1d6b9f8f",
   "metadata": {},
   "outputs": [
    {
     "name": "stdout",
     "output_type": "stream",
     "text": [
      "torch.Size([3, 20])\n"
     ]
    }
   ],
   "source": [
    "layer1 = nn.Linear(in_features=28*28, out_features=20)\n",
    "hidden1 = layer1(flat_image)\n",
    "print(hidden1.size())"
   ]
  },
  {
   "cell_type": "code",
   "execution_count": 9,
   "id": "390a644f-501f-4584-8c91-f7ed175e4730",
   "metadata": {},
   "outputs": [
    {
     "name": "stdout",
     "output_type": "stream",
     "text": [
      "Before ReLU: tensor([[-2.8363e-01, -3.5301e-01, -5.3144e-01, -2.7149e-01,  2.4829e-01,\n",
      "          2.5008e-01, -3.1087e-01,  1.0727e-01,  1.8428e-01, -2.3134e-02,\n",
      "          6.4098e-02,  4.3587e-02, -2.0620e-01,  4.2702e-01,  5.9174e-01,\n",
      "         -5.1212e-01, -4.8619e-01, -3.4397e-02,  6.5667e-01, -5.0367e-01],\n",
      "        [-4.3010e-01, -3.6109e-02, -2.3428e-01, -1.4761e-01,  1.9348e-01,\n",
      "          1.9856e-01, -1.5816e-01, -8.0384e-05,  1.1630e-01,  2.7243e-01,\n",
      "          1.5105e-01, -1.2767e-01, -2.1603e-01,  1.7677e-02,  4.0047e-01,\n",
      "         -3.6484e-01, -7.4619e-01, -1.1578e-02,  6.9853e-01, -4.7067e-01],\n",
      "        [-4.0806e-01, -3.8190e-01, -3.6194e-01, -2.1179e-01,  2.4113e-01,\n",
      "          8.9122e-02,  4.1620e-02, -1.9383e-01, -6.2358e-03,  3.3996e-01,\n",
      "          1.5765e-01, -1.8877e-02, -2.4675e-01,  4.3069e-01,  3.4012e-01,\n",
      "         -6.4888e-01, -6.0804e-01, -2.1120e-01,  8.1102e-01, -5.2301e-01]],\n",
      "       grad_fn=<AddmmBackward0>)\n",
      "\n",
      "\n",
      "After ReLU: tensor([[0.0000, 0.0000, 0.0000, 0.0000, 0.2483, 0.2501, 0.0000, 0.1073, 0.1843,\n",
      "         0.0000, 0.0641, 0.0436, 0.0000, 0.4270, 0.5917, 0.0000, 0.0000, 0.0000,\n",
      "         0.6567, 0.0000],\n",
      "        [0.0000, 0.0000, 0.0000, 0.0000, 0.1935, 0.1986, 0.0000, 0.0000, 0.1163,\n",
      "         0.2724, 0.1511, 0.0000, 0.0000, 0.0177, 0.4005, 0.0000, 0.0000, 0.0000,\n",
      "         0.6985, 0.0000],\n",
      "        [0.0000, 0.0000, 0.0000, 0.0000, 0.2411, 0.0891, 0.0416, 0.0000, 0.0000,\n",
      "         0.3400, 0.1577, 0.0000, 0.0000, 0.4307, 0.3401, 0.0000, 0.0000, 0.0000,\n",
      "         0.8110, 0.0000]], grad_fn=<ReluBackward0>)\n"
     ]
    }
   ],
   "source": [
    "print(f\"Before ReLU: {hidden1}\\n\\n\")\n",
    "hidden1 = nn.ReLU()(hidden1)\n",
    "print(f\"After ReLU: {hidden1}\")"
   ]
  },
  {
   "cell_type": "code",
   "execution_count": 10,
   "id": "20cdea72-d733-4cd6-8921-af452ddea32f",
   "metadata": {},
   "outputs": [],
   "source": [
    "seq_modules = nn.Sequential(\n",
    "    flatten,\n",
    "    layer1,\n",
    "    nn.ReLU(),\n",
    "    nn.Linear(20, 10)\n",
    ")\n",
    "input_image = torch.rand(3,28,28)\n",
    "logits = seq_modules(input_image)"
   ]
  },
  {
   "cell_type": "code",
   "execution_count": 11,
   "id": "607e2340-d4b1-435b-8b94-f57ef26b956a",
   "metadata": {},
   "outputs": [
    {
     "data": {
      "text/plain": [
       "tensor([[ 0.3916, -0.0867, -0.1780,  0.2230, -0.0911,  0.0615,  0.0386, -0.0806,\n",
       "          0.1831,  0.1409],\n",
       "        [ 0.4088, -0.1195, -0.2184,  0.2255, -0.2310,  0.0437, -0.1313, -0.1850,\n",
       "          0.1487,  0.0510],\n",
       "        [ 0.3898, -0.1183, -0.2033,  0.0708, -0.1147, -0.0102,  0.1675, -0.1216,\n",
       "          0.3786,  0.0454]], grad_fn=<AddmmBackward0>)"
      ]
     },
     "execution_count": 11,
     "metadata": {},
     "output_type": "execute_result"
    }
   ],
   "source": [
    "logits"
   ]
  },
  {
   "cell_type": "code",
   "execution_count": 13,
   "id": "3afe1879-539c-4fdd-b350-ef02f11e823a",
   "metadata": {},
   "outputs": [
    {
     "data": {
      "text/plain": [
       "torch.Size([3, 10])"
      ]
     },
     "execution_count": 13,
     "metadata": {},
     "output_type": "execute_result"
    }
   ],
   "source": [
    "softmax = nn.Softmax(dim=1)\n",
    "pred_probab = softmax(logits)\n",
    "pred_probab.size()"
   ]
  },
  {
   "cell_type": "code",
   "execution_count": 14,
   "id": "5ca5fbe9-f558-47f3-9d93-83a113772bac",
   "metadata": {},
   "outputs": [
    {
     "name": "stdout",
     "output_type": "stream",
     "text": [
      "Model structure: NeuralNetwork(\n",
      "  (flatten): Flatten(start_dim=1, end_dim=-1)\n",
      "  (linear_relu_stack): Sequential(\n",
      "    (0): Linear(in_features=784, out_features=512, bias=True)\n",
      "    (1): ReLU()\n",
      "    (2): Linear(in_features=512, out_features=512, bias=True)\n",
      "    (3): ReLU()\n",
      "    (4): Linear(in_features=512, out_features=10, bias=True)\n",
      "  )\n",
      ")\n",
      "\n",
      "\n",
      "Layer: linear_relu_stack.0.weight | Size: torch.Size([512, 784]) | Values : tensor([[ 0.0344, -0.0328,  0.0176,  ...,  0.0026,  0.0016,  0.0213],\n",
      "        [ 0.0214, -0.0041, -0.0318,  ..., -0.0341,  0.0211, -0.0049]],\n",
      "       grad_fn=<SliceBackward0>) \n",
      "\n",
      "Layer: linear_relu_stack.0.bias | Size: torch.Size([512]) | Values : tensor([ 0.0328, -0.0264], grad_fn=<SliceBackward0>) \n",
      "\n",
      "Layer: linear_relu_stack.2.weight | Size: torch.Size([512, 512]) | Values : tensor([[-0.0167,  0.0372,  0.0418,  ...,  0.0102,  0.0151,  0.0425],\n",
      "        [ 0.0104,  0.0218, -0.0198,  ..., -0.0025, -0.0098, -0.0210]],\n",
      "       grad_fn=<SliceBackward0>) \n",
      "\n",
      "Layer: linear_relu_stack.2.bias | Size: torch.Size([512]) | Values : tensor([-0.0319, -0.0284], grad_fn=<SliceBackward0>) \n",
      "\n",
      "Layer: linear_relu_stack.4.weight | Size: torch.Size([10, 512]) | Values : tensor([[-0.0061,  0.0089, -0.0079,  ..., -0.0323,  0.0346,  0.0246],\n",
      "        [ 0.0406, -0.0245,  0.0157,  ...,  0.0388,  0.0431,  0.0257]],\n",
      "       grad_fn=<SliceBackward0>) \n",
      "\n",
      "Layer: linear_relu_stack.4.bias | Size: torch.Size([10]) | Values : tensor([-0.0234,  0.0266], grad_fn=<SliceBackward0>) \n",
      "\n"
     ]
    }
   ],
   "source": [
    "print(f\"Model structure: {model}\\n\\n\")\n",
    "\n",
    "for name, param in model.named_parameters():\n",
    "    print(f\"Layer: {name} | Size: {param.size()} | Values : {param[:2]} \\n\")"
   ]
  },
  {
   "cell_type": "code",
   "execution_count": null,
   "id": "0fcbc872-2394-40d0-a46d-c6d988f6de8a",
   "metadata": {},
   "outputs": [],
   "source": []
  }
 ],
 "metadata": {
  "kernelspec": {
   "display_name": "Python 3 (ipykernel)",
   "language": "python",
   "name": "python3"
  },
  "language_info": {
   "codemirror_mode": {
    "name": "ipython",
    "version": 3
   },
   "file_extension": ".py",
   "mimetype": "text/x-python",
   "name": "python",
   "nbconvert_exporter": "python",
   "pygments_lexer": "ipython3",
   "version": "3.8.13"
  }
 },
 "nbformat": 4,
 "nbformat_minor": 5
}
