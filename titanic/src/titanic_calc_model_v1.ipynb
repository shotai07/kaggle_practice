{
 "cells": [
  {
   "cell_type": "markdown",
   "metadata": {},
   "source": [
    "- モデル計算"
   ]
  },
  {
   "cell_type": "markdown",
   "metadata": {},
   "source": [
    "# Library"
   ]
  },
  {
   "cell_type": "code",
   "execution_count": 1,
   "metadata": {},
   "outputs": [],
   "source": [
    "# This Python 3 environment comes with many helpful analytics libraries installed\n",
    "# It is defined by the kaggle/python docker image: https://github.com/kaggle/docker-python\n",
    "# For example, here's several helpful packages to load in \n",
    "\n",
    "import numpy as np # linear algebra\n",
    "import pandas as pd # data processing, CSV file I/O (e.g. pd.read_csv)\n",
    "import re\n",
    "\n",
    "# Input data files are available in the \"../input/\" directory.\n",
    "# For example, running this (by clicking run or pressing Shift+Enter) will list all files under the input directory\n",
    "\n",
    "import os\n",
    "\n",
    "import warnings\n",
    "warnings.filterwarnings('ignore')"
   ]
  },
  {
   "cell_type": "code",
   "execution_count": 2,
   "metadata": {},
   "outputs": [],
   "source": [
    "from sklearn.preprocessing import LabelEncoder\n",
    "from sklearn.preprocessing import OneHotEncoder\n",
    "from sklearn.preprocessing import StandardScaler\n",
    "\n",
    "from sklearn.decomposition import PCA\n",
    "from sklearn.linear_model import LogisticRegression\n",
    "from sklearn.svm import SVC\n",
    "from sklearn.tree import DecisionTreeClassifier\n",
    "from sklearn.ensemble import RandomForestClassifier\n",
    "from sklearn.naive_bayes import GaussianNB\n",
    "from sklearn.neighbors import KNeighborsClassifier\n",
    "from sklearn.ensemble import VotingClassifier\n",
    "\n",
    "from sklearn.experimental import enable_iterative_imputer\n",
    "from sklearn.impute import IterativeImputer, SimpleImputer\n",
    "from sklearn.preprocessing import OneHotEncoder, StandardScaler\n",
    "from sklearn.pipeline import Pipeline\n",
    "from sklearn.compose import ColumnTransformer\n",
    "\n",
    "from sklearn.model_selection import StratifiedKFold\n",
    "from sklearn.model_selection import cross_val_score\n",
    "from sklearn.model_selection import train_test_split\n",
    "\n",
    "from sklearn import metrics\n",
    "from sklearn.metrics import confusion_matrix, classification_report"
   ]
  },
  {
   "cell_type": "code",
   "execution_count": 3,
   "metadata": {},
   "outputs": [],
   "source": [
    "# Visualization\n",
    "import matplotlib.pyplot as plt\n",
    "import seaborn as sns\n",
    "%matplotlib inline"
   ]
  },
  {
   "cell_type": "code",
   "execution_count": 4,
   "metadata": {},
   "outputs": [],
   "source": [
    "# model\n",
    "import lightgbm as lgb\n",
    "\n",
    "# shap\n",
    "import shap"
   ]
  },
  {
   "cell_type": "code",
   "execution_count": 5,
   "metadata": {},
   "outputs": [
    {
     "data": {
      "text/plain": [
       "<module 'utils.my_ds_tools' from 'D:\\\\workspace\\\\kaggle_practice\\\\titanic\\\\src\\\\../..\\\\utils\\\\my_ds_tools.py'>"
      ]
     },
     "execution_count": 5,
     "metadata": {},
     "output_type": "execute_result"
    }
   ],
   "source": [
    "# my_tool\n",
    "import sys\n",
    "sys.path.append('../../')\n",
    "import importlib\n",
    "from utils import my_ds_tools as mdt\n",
    "importlib.reload(mdt)"
   ]
  },
  {
   "cell_type": "markdown",
   "metadata": {},
   "source": [
    "# Config"
   ]
  },
  {
   "cell_type": "code",
   "execution_count": 6,
   "metadata": {},
   "outputs": [],
   "source": [
    "VERSION = 'v1'\n",
    "USAGE = 'tree'\n",
    "INPUT_DIR = '../intermediate/'"
   ]
  },
  {
   "cell_type": "code",
   "execution_count": 7,
   "metadata": {},
   "outputs": [],
   "source": [
    "Y_COL = 'Survived'\n",
    "DROP_COLS = ['PassengerId']"
   ]
  },
  {
   "cell_type": "markdown",
   "metadata": {},
   "source": [
    "# Load data"
   ]
  },
  {
   "cell_type": "code",
   "execution_count": 8,
   "metadata": {},
   "outputs": [],
   "source": [
    "train_df = pd.read_csv(INPUT_DIR + 'train_for_' + USAGE + '_' + VERSION + '.csv')\n",
    "test_df = pd.read_csv(INPUT_DIR + 'test_for_' + USAGE + '_' + VERSION + '.csv')"
   ]
  },
  {
   "cell_type": "markdown",
   "metadata": {},
   "source": [
    "# Preprocess"
   ]
  },
  {
   "cell_type": "code",
   "execution_count": 9,
   "metadata": {},
   "outputs": [],
   "source": [
    "feature_cols = [\n",
    "#     'Unnamed: 0',\n",
    "#     'PassengerId',\n",
    "    'Pclass',\n",
    "#     'Name',\n",
    "    'Sex',\n",
    "#     'Age',\n",
    "#     'SibSp',\n",
    "#     'Parch', \n",
    "#     'Ticket', \n",
    "#     'Fare',\n",
    "#     'Cabin',\n",
    "    'Embarked',\n",
    "#     'name_title',\n",
    "    'ticket_length',\n",
    "    'cabin_length',\n",
    "    'cabin_initial',\n",
    "    'fixed_age',\n",
    "#     'age_rank',\n",
    "    'fixed_fare',\n",
    "    'is_alone',\n",
    "#     'Survived'\n",
    "]\n",
    "# train_df.columns"
   ]
  },
  {
   "cell_type": "code",
   "execution_count": 10,
   "metadata": {},
   "outputs": [],
   "source": [
    "x = train_df.loc[:, feature_cols]\n",
    "y = train_df.loc[:, Y_COL]"
   ]
  },
  {
   "cell_type": "code",
   "execution_count": 11,
   "metadata": {},
   "outputs": [],
   "source": [
    "prepro_tool = mdt.DS_PREPROCESS(x, y)"
   ]
  },
  {
   "cell_type": "code",
   "execution_count": 12,
   "metadata": {},
   "outputs": [
    {
     "name": "stdout",
     "output_type": "stream",
     "text": [
      "Categorical\n",
      "['Sex', 'Embarked', 'cabin_initial']\n",
      "Numerical\n",
      "['Pclass', 'ticket_length', 'cabin_length', 'fixed_age', 'fixed_fare', 'is_alone']\n"
     ]
    }
   ],
   "source": [
    "prepro_tool.show_desc_features()"
   ]
  },
  {
   "cell_type": "code",
   "execution_count": 13,
   "metadata": {},
   "outputs": [
    {
     "data": {
      "text/plain": [
       "Pclass           0\n",
       "Sex              0\n",
       "Embarked         0\n",
       "ticket_length    0\n",
       "cabin_length     0\n",
       "cabin_initial    0\n",
       "fixed_age        0\n",
       "fixed_fare       0\n",
       "is_alone         0\n",
       "dtype: int64"
      ]
     },
     "execution_count": 13,
     "metadata": {},
     "output_type": "execute_result"
    }
   ],
   "source": [
    "prepro_x = prepro_tool.label_encode_x()\n",
    "prepro_tool.check_null_x(prepro_x)"
   ]
  },
  {
   "cell_type": "code",
   "execution_count": 14,
   "metadata": {},
   "outputs": [],
   "source": [
    "x_train, x_test, y_train, y_test = train_test_split(prepro_x, y)"
   ]
  },
  {
   "cell_type": "markdown",
   "metadata": {},
   "source": [
    "# Calculate model"
   ]
  },
  {
   "cell_type": "code",
   "execution_count": 15,
   "metadata": {},
   "outputs": [
    {
     "data": {
      "text/html": [
       "<div>\n",
       "<style scoped>\n",
       "    .dataframe tbody tr th:only-of-type {\n",
       "        vertical-align: middle;\n",
       "    }\n",
       "\n",
       "    .dataframe tbody tr th {\n",
       "        vertical-align: top;\n",
       "    }\n",
       "\n",
       "    .dataframe thead th {\n",
       "        text-align: right;\n",
       "    }\n",
       "</style>\n",
       "<table border=\"1\" class=\"dataframe\">\n",
       "  <thead>\n",
       "    <tr style=\"text-align: right;\">\n",
       "      <th></th>\n",
       "      <th>Pclass</th>\n",
       "      <th>Sex</th>\n",
       "      <th>Embarked</th>\n",
       "      <th>ticket_length</th>\n",
       "      <th>cabin_length</th>\n",
       "      <th>cabin_initial</th>\n",
       "      <th>fixed_age</th>\n",
       "      <th>fixed_fare</th>\n",
       "      <th>is_alone</th>\n",
       "    </tr>\n",
       "  </thead>\n",
       "  <tbody>\n",
       "    <tr>\n",
       "      <th>0</th>\n",
       "      <td>3</td>\n",
       "      <td>1</td>\n",
       "      <td>2</td>\n",
       "      <td>8</td>\n",
       "      <td>3</td>\n",
       "      <td>8</td>\n",
       "      <td>22.0</td>\n",
       "      <td>1.981001</td>\n",
       "      <td>0</td>\n",
       "    </tr>\n",
       "    <tr>\n",
       "      <th>1</th>\n",
       "      <td>1</td>\n",
       "      <td>0</td>\n",
       "      <td>0</td>\n",
       "      <td>7</td>\n",
       "      <td>3</td>\n",
       "      <td>2</td>\n",
       "      <td>38.0</td>\n",
       "      <td>4.266662</td>\n",
       "      <td>0</td>\n",
       "    </tr>\n",
       "    <tr>\n",
       "      <th>2</th>\n",
       "      <td>3</td>\n",
       "      <td>0</td>\n",
       "      <td>2</td>\n",
       "      <td>14</td>\n",
       "      <td>3</td>\n",
       "      <td>8</td>\n",
       "      <td>26.0</td>\n",
       "      <td>2.070022</td>\n",
       "      <td>1</td>\n",
       "    </tr>\n",
       "    <tr>\n",
       "      <th>3</th>\n",
       "      <td>1</td>\n",
       "      <td>0</td>\n",
       "      <td>2</td>\n",
       "      <td>6</td>\n",
       "      <td>4</td>\n",
       "      <td>2</td>\n",
       "      <td>35.0</td>\n",
       "      <td>3.972177</td>\n",
       "      <td>0</td>\n",
       "    </tr>\n",
       "    <tr>\n",
       "      <th>4</th>\n",
       "      <td>3</td>\n",
       "      <td>1</td>\n",
       "      <td>2</td>\n",
       "      <td>6</td>\n",
       "      <td>3</td>\n",
       "      <td>8</td>\n",
       "      <td>35.0</td>\n",
       "      <td>2.085672</td>\n",
       "      <td>1</td>\n",
       "    </tr>\n",
       "  </tbody>\n",
       "</table>\n",
       "</div>"
      ],
      "text/plain": [
       "   Pclass  Sex  Embarked  ticket_length  cabin_length  cabin_initial  \\\n",
       "0       3    1         2              8             3              8   \n",
       "1       1    0         0              7             3              2   \n",
       "2       3    0         2             14             3              8   \n",
       "3       1    0         2              6             4              2   \n",
       "4       3    1         2              6             3              8   \n",
       "\n",
       "   fixed_age  fixed_fare  is_alone  \n",
       "0       22.0    1.981001         0  \n",
       "1       38.0    4.266662         0  \n",
       "2       26.0    2.070022         1  \n",
       "3       35.0    3.972177         0  \n",
       "4       35.0    2.085672         1  "
      ]
     },
     "execution_count": 15,
     "metadata": {},
     "output_type": "execute_result"
    }
   ],
   "source": [
    "prepro_x.head()"
   ]
  },
  {
   "cell_type": "code",
   "execution_count": 16,
   "metadata": {},
   "outputs": [
    {
     "name": "stdout",
     "output_type": "stream",
     "text": [
      "lgb\n",
      "auc: 0.81\n",
      "accuracy: 0.82\n",
      "precision: 0.79\n",
      "recall: 0.73\n",
      "f1: 0.76\n",
      "---------------------------------\n",
      "rbf_svm\n",
      "auc: 0.62\n",
      "accuracy: 0.69\n",
      "precision: 0.72\n",
      "recall: 0.31\n",
      "f1: 0.43\n",
      "---------------------------------\n",
      "linear_svm\n",
      "auc: 0.77\n",
      "accuracy: 0.79\n",
      "precision: 0.74\n",
      "recall: 0.68\n",
      "f1: 0.71\n",
      "---------------------------------\n",
      "logit\n",
      "auc: 0.76\n",
      "accuracy: 0.78\n",
      "precision: 0.71\n",
      "recall: 0.71\n",
      "f1: 0.71\n",
      "---------------------------------\n",
      "dt\n",
      "auc: 0.77\n",
      "accuracy: 0.79\n",
      "precision: 0.72\n",
      "recall: 0.72\n",
      "f1: 0.72\n",
      "---------------------------------\n",
      "rf\n",
      "auc: 0.78\n",
      "accuracy: 0.80\n",
      "precision: 0.75\n",
      "recall: 0.72\n",
      "f1: 0.73\n",
      "---------------------------------\n",
      "nb\n",
      "auc: 0.71\n",
      "accuracy: 0.73\n",
      "precision: 0.66\n",
      "recall: 0.61\n",
      "f1: 0.64\n",
      "---------------------------------\n",
      "knn\n",
      "auc: 0.69\n",
      "accuracy: 0.72\n",
      "precision: 0.68\n",
      "recall: 0.53\n",
      "f1: 0.59\n",
      "---------------------------------\n",
      "vote\n",
      "Caution: No models\n",
      "---------------------------------\n"
     ]
    }
   ],
   "source": [
    "models = ['lgb', 'rbf_svm', 'linear_svm', 'logit', 'dt', 'rf', 'nb', 'knn', 'vote']\n",
    "model_tool = mdt.DS_MODEL()\n",
    "for m in models:\n",
    "    print(m)\n",
    "#     model_tool.class_fit_predict(x_train, x_test, y_train, y_test, m)\n",
    "    model_tool.class_fit_predict_cv(m, prepro_x, y)\n",
    "    print('---------------------------------')"
   ]
  },
  {
   "cell_type": "markdown",
   "metadata": {},
   "source": [
    "# EDA by SHAP"
   ]
  },
  {
   "cell_type": "code",
   "execution_count": 19,
   "metadata": {},
   "outputs": [],
   "source": [
    "# fitted_models = model_tool.get_estimators()\n",
    "# fitted_models"
   ]
  },
  {
   "cell_type": "code",
   "execution_count": 20,
   "metadata": {},
   "outputs": [],
   "source": [
    "# shap_tool = mdt.DS_SHAP(fitted_models['lgb'], x_train)"
   ]
  },
  {
   "cell_type": "code",
   "execution_count": 21,
   "metadata": {},
   "outputs": [],
   "source": [
    "# shap_tool.show_summary_plot()"
   ]
  },
  {
   "cell_type": "code",
   "execution_count": 22,
   "metadata": {},
   "outputs": [],
   "source": [
    "# shap_tool.show_all_dependence_plot()"
   ]
  },
  {
   "cell_type": "code",
   "execution_count": null,
   "metadata": {},
   "outputs": [],
   "source": []
  },
  {
   "cell_type": "code",
   "execution_count": null,
   "metadata": {},
   "outputs": [],
   "source": []
  }
 ],
 "metadata": {
  "kernelspec": {
   "display_name": "Python 3 (ipykernel)",
   "language": "python",
   "name": "python3"
  },
  "language_info": {
   "codemirror_mode": {
    "name": "ipython",
    "version": 3
   },
   "file_extension": ".py",
   "mimetype": "text/x-python",
   "name": "python",
   "nbconvert_exporter": "python",
   "pygments_lexer": "ipython3",
   "version": "3.10.4"
  },
  "toc-showcode": false
 },
 "nbformat": 4,
 "nbformat_minor": 4
}
