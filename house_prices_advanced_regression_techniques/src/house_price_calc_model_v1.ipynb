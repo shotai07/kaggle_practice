{
 "cells": [
  {
   "cell_type": "markdown",
   "metadata": {},
   "source": [
    "# Library"
   ]
  },
  {
   "cell_type": "code",
   "execution_count": 1,
   "metadata": {},
   "outputs": [
    {
     "data": {
      "text/plain": [
       "<module 'utils.my_ds_tools' from '../..\\\\utils\\\\my_ds_tools.py'>"
      ]
     },
     "execution_count": 1,
     "metadata": {},
     "output_type": "execute_result"
    }
   ],
   "source": [
    "import numpy as np # linear algebra\n",
    "import pandas as pd # data processing, CSV file I/O (e.g. pd.read_csv)\n",
    "import re\n",
    "import datetime\n",
    "\n",
    "import os\n",
    "\n",
    "import warnings\n",
    "warnings.filterwarnings('ignore')\n",
    "\n",
    "pd.set_option('display.max_columns', 100)\n",
    "pd.set_option('display.max_rows', 100)\n",
    "\n",
    "from sklearn.preprocessing import LabelEncoder\n",
    "from sklearn.preprocessing import OneHotEncoder\n",
    "from sklearn.preprocessing import StandardScaler\n",
    "\n",
    "from sklearn.decomposition import PCA\n",
    "from sklearn.linear_model import LogisticRegression\n",
    "from sklearn.svm import SVC\n",
    "from sklearn.tree import DecisionTreeClassifier\n",
    "from sklearn.ensemble import RandomForestClassifier\n",
    "from sklearn.naive_bayes import GaussianNB\n",
    "from sklearn.neighbors import KNeighborsClassifier\n",
    "from sklearn.ensemble import VotingClassifier\n",
    "\n",
    "from sklearn.experimental import enable_iterative_imputer\n",
    "from sklearn.impute import IterativeImputer, SimpleImputer\n",
    "from sklearn.preprocessing import OneHotEncoder, StandardScaler\n",
    "from sklearn.pipeline import Pipeline\n",
    "from sklearn.compose import ColumnTransformer\n",
    "\n",
    "from sklearn.model_selection import StratifiedKFold\n",
    "from sklearn.model_selection import cross_val_score\n",
    "from sklearn.model_selection import train_test_split\n",
    "\n",
    "from sklearn import metrics\n",
    "from sklearn.metrics import confusion_matrix, classification_report\n",
    "\n",
    "# Visualization\n",
    "import matplotlib.pyplot as plt\n",
    "import seaborn as sns\n",
    "%matplotlib inline\n",
    "\n",
    "# model\n",
    "import lightgbm as lgb\n",
    "\n",
    "# shap\n",
    "import shap\n",
    "\n",
    "# my_tool\n",
    "import sys\n",
    "sys.path.append('../../')\n",
    "import importlib\n",
    "from utils import my_ds_tools as mdt\n",
    "importlib.reload(mdt)"
   ]
  },
  {
   "cell_type": "markdown",
   "metadata": {},
   "source": [
    "# Config"
   ]
  },
  {
   "cell_type": "code",
   "execution_count": 7,
   "metadata": {},
   "outputs": [],
   "source": [
    "VERSION = 'v1'\n",
    "USAGE = 'tree'\n",
    "INPUT_DIR = '../intermediate/'\n",
    "\n",
    "Y_COL = 'SalePrice'\n",
    "DROP_COLS = ['Id']"
   ]
  },
  {
   "cell_type": "markdown",
   "metadata": {},
   "source": [
    "# Load data"
   ]
  },
  {
   "cell_type": "code",
   "execution_count": 15,
   "metadata": {},
   "outputs": [],
   "source": [
    "train_df = pd.read_csv(INPUT_DIR + 'train_for_' + USAGE + '_' + VERSION + '.csv')\n",
    "test_df = pd.read_csv(INPUT_DIR + 'test_for_' + USAGE + '_' + VERSION + '.csv')"
   ]
  },
  {
   "cell_type": "markdown",
   "metadata": {},
   "source": [
    "# Preprocess"
   ]
  },
  {
   "cell_type": "code",
   "execution_count": 39,
   "metadata": {},
   "outputs": [],
   "source": [
    "feature_cols = [\n",
    "#     'Unnamed: 0', \n",
    "#     'Id', \n",
    "#     'MSSubClass', \n",
    "    'MSZoning', \n",
    "    'LotFrontage',\n",
    "#     'LotArea',\n",
    "    'Street',\n",
    "    'Alley',\n",
    "    'LotShape',\n",
    "    'LandContour',\n",
    "    'Utilities',\n",
    "    'LotConfig',\n",
    "    'LandSlope',\n",
    "    'Neighborhood',\n",
    "    'Condition1',\n",
    "    'Condition2',\n",
    "    'BldgType',\n",
    "    'HouseStyle',\n",
    "    'OverallQual',\n",
    "    'OverallCond',\n",
    "#     'YearBuilt',\n",
    "#     'YearRemodAdd',\n",
    "    'RoofStyle',\n",
    "    'RoofMatl',\n",
    "    'Exterior1st',\n",
    "    'Exterior2nd',\n",
    "    'MasVnrType',\n",
    "#     'MasVnrArea',\n",
    "    'ExterQual',\n",
    "    'ExterCond',\n",
    "    'Foundation',\n",
    "    'BsmtQual',\n",
    "    'BsmtCond',\n",
    "    'BsmtExposure',\n",
    "    'BsmtFinType1',\n",
    "    'BsmtFinSF1',\n",
    "    'BsmtFinType2',\n",
    "#     'BsmtFinSF2',\n",
    "    'BsmtUnfSF',\n",
    "    'TotalBsmtSF',\n",
    "    'Heating',\n",
    "    'HeatingQC',\n",
    "    'CentralAir',\n",
    "    'Electrical',\n",
    "    '1stFlrSF',\n",
    "    '2ndFlrSF',\n",
    "    'LowQualFinSF',\n",
    "    'GrLivArea',\n",
    "    'BsmtFullBath',\n",
    "    'BsmtHalfBath',\n",
    "    'FullBath',\n",
    "#     'HalfBath',\n",
    "    'BedroomAbvGr',\n",
    "#     'KitchenAbvGr',\n",
    "    'KitchenQual',\n",
    "    'TotRmsAbvGrd',\n",
    "    'Functional',\n",
    "    'Fireplaces',\n",
    "    'FireplaceQu',\n",
    "    'GarageType',\n",
    "    'GarageYrBlt',\n",
    "    'GarageFinish',\n",
    "    'GarageCars',\n",
    "    'GarageArea',\n",
    "    'GarageQual',\n",
    "    'GarageCond',\n",
    "    'PavedDrive',\n",
    "    'WoodDeckSF',\n",
    "    'OpenPorchSF',\n",
    "    'EnclosedPorch',\n",
    "    '3SsnPorch',\n",
    "    'ScreenPorch',\n",
    "    'PoolArea',\n",
    "    'PoolQC',\n",
    "    'Fence',\n",
    "    'MiscFeature',\n",
    "    'MiscVal',\n",
    "    'MoSold',\n",
    "#     'YrSold',\n",
    "    'SaleType',\n",
    "    'SaleCondition',\n",
    "    'FixedMSSubClass',\n",
    "    'LogLotArea',\n",
    "    'IsRemod',\n",
    "    'PastYears',\n",
    "#     'SalePrice'\n",
    "]\n",
    "# train_df.columns"
   ]
  },
  {
   "cell_type": "code",
   "execution_count": 40,
   "metadata": {},
   "outputs": [],
   "source": [
    "x = train_df.loc[:, feature_cols]\n",
    "y = train_df.loc[:, Y_COL]"
   ]
  },
  {
   "cell_type": "code",
   "execution_count": 41,
   "metadata": {},
   "outputs": [],
   "source": [
    "prepro_tool = mdt.DS_PREPROCESS(x, y)"
   ]
  },
  {
   "cell_type": "code",
   "execution_count": 42,
   "metadata": {},
   "outputs": [
    {
     "name": "stdout",
     "output_type": "stream",
     "text": [
      "Categorical\n",
      "['MSZoning', 'Street', 'Alley', 'LotShape', 'LandContour', 'Utilities', 'LotConfig', 'LandSlope', 'Neighborhood', 'Condition1', 'Condition2', 'BldgType', 'HouseStyle', 'RoofStyle', 'RoofMatl', 'Exterior1st', 'Exterior2nd', 'MasVnrType', 'ExterQual', 'ExterCond', 'Foundation', 'BsmtQual', 'BsmtCond', 'BsmtExposure', 'BsmtFinType1', 'BsmtFinType2', 'Heating', 'HeatingQC', 'CentralAir', 'Electrical', 'KitchenQual', 'Functional', 'FireplaceQu', 'GarageType', 'GarageFinish', 'GarageQual', 'GarageCond', 'PavedDrive', 'PoolQC', 'Fence', 'MiscFeature', 'SaleType', 'SaleCondition']\n",
      "Numerical\n",
      "['LotFrontage', 'OverallQual', 'OverallCond', 'BsmtFinSF1', 'BsmtUnfSF', 'TotalBsmtSF', '1stFlrSF', '2ndFlrSF', 'LowQualFinSF', 'GrLivArea', 'BsmtFullBath', 'BsmtHalfBath', 'FullBath', 'BedroomAbvGr', 'TotRmsAbvGrd', 'Fireplaces', 'GarageYrBlt', 'GarageCars', 'GarageArea', 'WoodDeckSF', 'OpenPorchSF', 'EnclosedPorch', '3SsnPorch', 'ScreenPorch', 'PoolArea', 'MiscVal', 'MoSold', 'FixedMSSubClass', 'LogLotArea', 'IsRemod', 'PastYears']\n"
     ]
    }
   ],
   "source": [
    "prepro_tool.show_desc_features()"
   ]
  },
  {
   "cell_type": "code",
   "execution_count": 43,
   "metadata": {},
   "outputs": [
    {
     "data": {
      "text/plain": [
       "MSZoning             0\n",
       "LotFrontage        259\n",
       "Street               0\n",
       "Alley                0\n",
       "LotShape             0\n",
       "LandContour          0\n",
       "Utilities            0\n",
       "LotConfig            0\n",
       "LandSlope            0\n",
       "Neighborhood         0\n",
       "Condition1           0\n",
       "Condition2           0\n",
       "BldgType             0\n",
       "HouseStyle           0\n",
       "OverallQual          0\n",
       "OverallCond          0\n",
       "RoofStyle            0\n",
       "RoofMatl             0\n",
       "Exterior1st          0\n",
       "Exterior2nd          0\n",
       "MasVnrType           0\n",
       "ExterQual            0\n",
       "ExterCond            0\n",
       "Foundation           0\n",
       "BsmtQual             0\n",
       "BsmtCond             0\n",
       "BsmtExposure         0\n",
       "BsmtFinType1         0\n",
       "BsmtFinSF1           0\n",
       "BsmtFinType2         0\n",
       "BsmtUnfSF            0\n",
       "TotalBsmtSF          0\n",
       "Heating              0\n",
       "HeatingQC            0\n",
       "CentralAir           0\n",
       "Electrical           0\n",
       "1stFlrSF             0\n",
       "2ndFlrSF             0\n",
       "LowQualFinSF         0\n",
       "GrLivArea            0\n",
       "BsmtFullBath         0\n",
       "BsmtHalfBath         0\n",
       "FullBath             0\n",
       "BedroomAbvGr         0\n",
       "KitchenQual          0\n",
       "TotRmsAbvGrd         0\n",
       "Functional           0\n",
       "Fireplaces           0\n",
       "FireplaceQu          0\n",
       "GarageType           0\n",
       "GarageYrBlt         81\n",
       "GarageFinish         0\n",
       "GarageCars           0\n",
       "GarageArea           0\n",
       "GarageQual           0\n",
       "GarageCond           0\n",
       "PavedDrive           0\n",
       "WoodDeckSF           0\n",
       "OpenPorchSF          0\n",
       "EnclosedPorch        0\n",
       "3SsnPorch            0\n",
       "ScreenPorch          0\n",
       "PoolArea             0\n",
       "PoolQC               0\n",
       "Fence                0\n",
       "MiscFeature          0\n",
       "MiscVal              0\n",
       "MoSold               0\n",
       "SaleType             0\n",
       "SaleCondition        0\n",
       "FixedMSSubClass      0\n",
       "LogLotArea           0\n",
       "IsRemod              0\n",
       "PastYears            0\n",
       "dtype: int64"
      ]
     },
     "execution_count": 43,
     "metadata": {},
     "output_type": "execute_result"
    }
   ],
   "source": [
    "prepro_x = prepro_tool.label_encode_x()\n",
    "prepro_tool.check_null_x(prepro_x)"
   ]
  },
  {
   "cell_type": "code",
   "execution_count": 46,
   "metadata": {},
   "outputs": [
    {
     "data": {
      "text/plain": [
       "0    12.247694\n",
       "1    12.109011\n",
       "2    12.317167\n",
       "3    11.849398\n",
       "4    12.429216\n",
       "Name: SalePrice, dtype: float64"
      ]
     },
     "execution_count": 46,
     "metadata": {},
     "output_type": "execute_result"
    }
   ],
   "source": [
    "prepro_y = np.log(y)\n",
    "prepro_y.head()"
   ]
  },
  {
   "cell_type": "code",
   "execution_count": 47,
   "metadata": {},
   "outputs": [],
   "source": [
    "x_train, x_test, y_train, y_test = train_test_split(prepro_x, prepro_y)"
   ]
  },
  {
   "cell_type": "markdown",
   "metadata": {},
   "source": [
    "# Calculate Model"
   ]
  },
  {
   "cell_type": "code",
   "execution_count": 51,
   "metadata": {},
   "outputs": [
    {
     "name": "stdout",
     "output_type": "stream",
     "text": [
      "MAE: 0.09\n",
      "MAE/MEAN: 0.0076\n",
      "RMSE: 0.13\n",
      "RMSE/MEAN: 0.0108\n"
     ]
    }
   ],
   "source": [
    "model = lgb.LGBMRegressor()\n",
    "model.fit(x_train, y_train)\n",
    "\n",
    "# テストデータを予測する\n",
    "y_pred = model.predict(x_test)\n",
    "\n",
    "# 精度を計算する\n",
    "mae = metrics.mean_absolute_error(y_test, y_pred)\n",
    "mae_mean = mae / prepro_y.mean()\n",
    "print('MAE: %.2f' % mae)\n",
    "print('MAE/MEAN: %.4f' % mae_mean)\n",
    "\n",
    "rmse = np.sqrt(metrics.mean_squared_error(y_test, y_pred))\n",
    "rmse_mean = rmse / prepro_y.mean()\n",
    "print('RMSE: %.2f' % rmse)\n",
    "print('RMSE/MEAN: %.4f' % rmse_mean)"
   ]
  },
  {
   "cell_type": "code",
   "execution_count": null,
   "metadata": {},
   "outputs": [],
   "source": []
  }
 ],
 "metadata": {
  "kernelspec": {
   "display_name": "Python 3",
   "language": "python",
   "name": "python3"
  },
  "language_info": {
   "codemirror_mode": {
    "name": "ipython",
    "version": 3
   },
   "file_extension": ".py",
   "mimetype": "text/x-python",
   "name": "python",
   "nbconvert_exporter": "python",
   "pygments_lexer": "ipython3",
   "version": "3.7.3"
  }
 },
 "nbformat": 4,
 "nbformat_minor": 2
}
